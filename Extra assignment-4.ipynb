{
 "cells": [
  {
   "cell_type": "code",
   "execution_count": null,
   "id": "985c0a59",
   "metadata": {},
   "outputs": [],
   "source": [
    "# # Create a class and function, and list out the items in the list\n"
   ]
  },
  {
   "cell_type": "code",
   "execution_count": 9,
   "id": "8fd5d2b2",
   "metadata": {},
   "outputs": [],
   "source": [
    "class SubfirldsInAI():\n",
    "    def subfields():\n",
    "        list=[\"Machine learing\",\"Neural networking\",\"vision\",\"robotics\",\"speech processing\"\n",
    "         ,\"natural language processing\"]\n",
    "        print(\"sub-fields in AI are:\")\n",
    "        for i in list:\n",
    "            print(i)"
   ]
  },
  {
   "cell_type": "code",
   "execution_count": 10,
   "id": "c2407f07",
   "metadata": {},
   "outputs": [
    {
     "name": "stdout",
     "output_type": "stream",
     "text": [
      "sub-fields in AI are:\n",
      "Machine learing\n",
      "Neural networking\n",
      "vision\n",
      "robotics\n",
      "speech processing\n",
      "natural language processing\n"
     ]
    }
   ],
   "source": [
    "SubfirldsInAI.subfields()"
   ]
  },
  {
   "cell_type": "code",
   "execution_count": null,
   "id": "792ef82b",
   "metadata": {},
   "outputs": [],
   "source": [
    " # Create a function that checks whether the given number is Odd or Even"
   ]
  },
  {
   "cell_type": "code",
   "execution_count": 12,
   "id": "380e4405",
   "metadata": {},
   "outputs": [],
   "source": [
    "def oddEven():\n",
    "    no=int(input(\"enter a number:\"))\n",
    "    if(no%2==0):\n",
    "        print(no,\"is even number\")\n",
    "        message=\"even number\"\n",
    "    else:\n",
    "        print(no,\"is odd number\")\n",
    "        message=\"odd number\"\n",
    "    return message"
   ]
  },
  {
   "cell_type": "code",
   "execution_count": 13,
   "id": "14acefdf",
   "metadata": {},
   "outputs": [
    {
     "name": "stdout",
     "output_type": "stream",
     "text": [
      "enter a number:76\n",
      "76 is even number\n"
     ]
    },
    {
     "data": {
      "text/plain": [
       "'even number'"
      ]
     },
     "execution_count": 13,
     "metadata": {},
     "output_type": "execute_result"
    }
   ],
   "source": [
    "oddEven()"
   ]
  },
  {
   "cell_type": "code",
   "execution_count": null,
   "id": "6fc5245e",
   "metadata": {},
   "outputs": [],
   "source": [
    "# Create a function that tells elegibility of marriage for male and female according to thei\n",
    "r age limit like 21 for male and 18 for female"
   ]
  },
  {
   "cell_type": "code",
   "execution_count": 18,
   "id": "34309b12",
   "metadata": {},
   "outputs": [],
   "source": [
    "def eligibleFormarriage():\n",
    "    gender=input(\"Your gender:\")\n",
    "    age=int(input(\"Your age:\"))\n",
    "    if(age>=21):\n",
    "        print(\"ELIGIBLE\")\n",
    "        message=\"eligible\"\n",
    "    elif(age>=18):\n",
    "        print(\" ELIGIBLE\")\n",
    "        message=\"eligible\"\n",
    "    else:\n",
    "        print(\"NOT ELIGIBLE\")\n",
    "        message=\"NOt eligible\"\n",
    "    return message"
   ]
  },
  {
   "cell_type": "code",
   "execution_count": 20,
   "id": "24775d8d",
   "metadata": {},
   "outputs": [
    {
     "name": "stdout",
     "output_type": "stream",
     "text": [
      "Your gender:female\n",
      "Your age:19\n",
      " ELIGIBLE\n"
     ]
    },
    {
     "data": {
      "text/plain": [
       "'eligible'"
      ]
     },
     "execution_count": 20,
     "metadata": {},
     "output_type": "execute_result"
    }
   ],
   "source": [
    "eligibleFormarriage()"
   ]
  },
  {
   "cell_type": "code",
   "execution_count": null,
   "id": "cef7c583",
   "metadata": {},
   "outputs": [],
   "source": [
    "# calculate the percentage of your 10th mark"
   ]
  },
  {
   "cell_type": "code",
   "execution_count": 1,
   "id": "18cfbd4f",
   "metadata": {},
   "outputs": [],
   "source": [
    "def percentage():\n",
    "    a=int(input(\"subject1= \"))\n",
    "    b=int(input(\"subject2= \"))\n",
    "    c=int(input(\"subject3=\"))\n",
    "    d=int(input(\"subject4=\"))\n",
    "    e=int(input(\"subject5=\"))\n",
    "    t=(a+b+c+d+e)\n",
    "    print(\"Total :\",t)\n",
    "    p=(t/5)\n",
    "    print(\"Percentage :\",p)"
   ]
  },
  {
   "cell_type": "code",
   "execution_count": 2,
   "id": "a5fbac3c",
   "metadata": {},
   "outputs": [
    {
     "name": "stdout",
     "output_type": "stream",
     "text": [
      "subject1=98\n",
      "subject2=87\n",
      "subject3=95\n",
      "subject4=95\n",
      "subject5=93\n",
      "Total : 468\n",
      "Percentage : 93.6\n"
     ]
    }
   ],
   "source": [
    "percentage()"
   ]
  },
  {
   "cell_type": "code",
   "execution_count": null,
   "id": "b1008719",
   "metadata": {},
   "outputs": [],
   "source": [
    " #print area and perimeter of triangle using class and functions"
   ]
  },
  {
   "cell_type": "code",
   "execution_count": 31,
   "id": "899d46fa",
   "metadata": {},
   "outputs": [],
   "source": [
    "class triangle():\n",
    "    def triangle1():\n",
    "        height=int(input(\"height:\"))\n",
    "        breadth=int(input(\"breadth:\"))\n",
    "        print(\"area of formula: (height*breadth)/2\")\n",
    "        print(\"area of triangle: \",height*breadth/2)\n",
    "        height1=int(input(\"height1:\"))\n",
    "        height2=int(input(\"height2:\"))\n",
    "        breadth1=int(input(\"breadth:\"))\n",
    "        print(\"perimeter formula: height1 + height2 + breadth1\")\n",
    "        print(\"perimeter of triangle: \",height1+height2+breadth1)\n",
    "        "
   ]
  },
  {
   "cell_type": "code",
   "execution_count": 32,
   "id": "a74c9d07",
   "metadata": {},
   "outputs": [
    {
     "name": "stdout",
     "output_type": "stream",
     "text": [
      "height:32\n",
      "breadth:34\n",
      "area of formula: (height*breadth)/2\n",
      "area of triangle:  544.0\n",
      "height1:2\n",
      "height2:4\n",
      "breadth:4\n",
      "perimeter formula: height1 + height2 + breadth1\n",
      "perimeter of triangle:  10\n"
     ]
    }
   ],
   "source": [
    "triangle.triangle1()"
   ]
  },
  {
   "cell_type": "code",
   "execution_count": null,
   "id": "773617e8",
   "metadata": {},
   "outputs": [],
   "source": []
  },
  {
   "cell_type": "code",
   "execution_count": null,
   "id": "43936560",
   "metadata": {},
   "outputs": [],
   "source": []
  },
  {
   "cell_type": "code",
   "execution_count": null,
   "id": "c0874619",
   "metadata": {},
   "outputs": [],
   "source": []
  },
  {
   "cell_type": "code",
   "execution_count": null,
   "id": "20a8d777",
   "metadata": {},
   "outputs": [],
   "source": []
  },
  {
   "cell_type": "code",
   "execution_count": null,
   "id": "bb520551",
   "metadata": {},
   "outputs": [],
   "source": []
  },
  {
   "cell_type": "code",
   "execution_count": null,
   "id": "7e3ad234",
   "metadata": {},
   "outputs": [],
   "source": []
  },
  {
   "cell_type": "code",
   "execution_count": null,
   "id": "57be675e",
   "metadata": {},
   "outputs": [],
   "source": []
  },
  {
   "cell_type": "code",
   "execution_count": null,
   "id": "b686135a",
   "metadata": {},
   "outputs": [],
   "source": []
  },
  {
   "cell_type": "code",
   "execution_count": null,
   "id": "aa902afb",
   "metadata": {},
   "outputs": [],
   "source": []
  },
  {
   "cell_type": "code",
   "execution_count": null,
   "id": "c75d402f",
   "metadata": {},
   "outputs": [],
   "source": []
  }
 ],
 "metadata": {
  "kernelspec": {
   "display_name": "Python 3 (ipykernel)",
   "language": "python",
   "name": "python3"
  },
  "language_info": {
   "codemirror_mode": {
    "name": "ipython",
    "version": 3
   },
   "file_extension": ".py",
   "mimetype": "text/x-python",
   "name": "python",
   "nbconvert_exporter": "python",
   "pygments_lexer": "ipython3",
   "version": "3.11.5"
  }
 },
 "nbformat": 4,
 "nbformat_minor": 5
}
