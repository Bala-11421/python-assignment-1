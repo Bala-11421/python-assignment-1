{
 "cells": [
  {
   "cell_type": "code",
   "execution_count": 1,
   "id": "0c40a8ff",
   "metadata": {},
   "outputs": [
    {
     "name": "stdout",
     "output_type": "stream",
     "text": [
      "HOPE AI\n"
     ]
    }
   ],
   "source": [
    "#print statement\n",
    "print(\"HOPE AI\")"
   ]
  },
  {
   "cell_type": "code",
   "execution_count": 2,
   "id": "7c460365",
   "metadata": {},
   "outputs": [
    {
     "name": "stdout",
     "output_type": "stream",
     "text": [
      "enter your institute name?:HOPE AI\n"
     ]
    }
   ],
   "source": [
    "#buy input\n",
    "get=input(\"enter your institute name?:\")"
   ]
  },
  {
   "cell_type": "code",
   "execution_count": 3,
   "id": "de472bff",
   "metadata": {},
   "outputs": [
    {
     "name": "stdout",
     "output_type": "stream",
     "text": [
      "Enter your name:balamurugan\n",
      "enter your age:19\n",
      "enter your school name:devanger higher secandary school\n",
      "enter your degree:BE.cse\n"
     ]
    }
   ],
   "source": [
    "#buy inputs\n",
    "name=input(\"Enter your name:\")\n",
    "age=input(\"enter your age:\")\n",
    "s_name=input(\"enter your school name:\")\n",
    "degree=input(\"enter your degree:\")"
   ]
  },
  {
   "cell_type": "code",
   "execution_count": 5,
   "id": "01f22f3d",
   "metadata": {},
   "outputs": [
    {
     "name": "stdout",
     "output_type": "stream",
     "text": [
      "43\n",
      "34\n",
      "a= 43\n",
      "b= 34\n",
      "add= 77\n"
     ]
    }
   ],
   "source": [
    "#addition\n",
    "a=int(input())\n",
    "b=int(input())\n",
    "add=a+b\n",
    "print(\"a=\",a)\n",
    "print(\"b=\",b)\n",
    "print(\"add=\",add)"
   ]
  },
  {
   "cell_type": "code",
   "execution_count": 8,
   "id": "3b7090fb",
   "metadata": {},
   "outputs": [
    {
     "name": "stdout",
     "output_type": "stream",
     "text": [
      "43\n",
      "34\n",
      "a= 43\n",
      "b= 34\n",
      "sub= 9\n"
     ]
    }
   ],
   "source": [
    "#subraction\n",
    "a=int(input())3\n",
    "b=int(input())\n",
    "sub=a-b\n",
    "print(\"a=\",a)\n",
    "print(\"b=\",b)\n",
    "print(\"sub=\",sub)"
   ]
  },
  {
   "cell_type": "code",
   "execution_count": 2,
   "id": "b2058399",
   "metadata": {},
   "outputs": [
    {
     "name": "stdout",
     "output_type": "stream",
     "text": [
      "63\n",
      "97\n",
      "a= 63\n",
      "b= 97\n",
      "mul= 6111\n"
     ]
    }
   ],
   "source": [
    "#multipliction\n",
    "a=int(input())\n",
    "b=int(input())\n",
    "mul=a*b\n",
    "print(\"a=\",a)\n",
    "print(\"b=\",b)\n",
    "print(\"mul=\",mul)"
   ]
  },
  {
   "cell_type": "code",
   "execution_count": 4,
   "id": "403b02ed",
   "metadata": {},
   "outputs": [
    {
     "name": "stdout",
     "output_type": "stream",
     "text": [
      "73\n",
      "31\n",
      "a= 73\n",
      "b= 31\n",
      "float_div= 2.3548387096774195\n"
     ]
    }
   ],
   "source": [
    "#division\n",
    "a=int(input())\n",
    "b=int(input())\n",
    "div=a/b\n",
    "print(\"a=\",a)\n",
    "print(\"b=\",b)\n",
    "print(\"div=\",div)"
   ]
  },
  {
   "cell_type": "code",
   "execution_count": 5,
   "id": "b30a7119",
   "metadata": {},
   "outputs": [
    {
     "name": "stdout",
     "output_type": "stream",
     "text": [
      "76\n",
      "31\n",
      "a= 76\n",
      "b= 31\n",
      "float_div= 2.4516129032258065\n"
     ]
    }
   ],
   "source": [
    "#float division\n",
    "a=int(input())\n",
    "b=int(input())\n",
    "float_div=a/b\n",
    "print(\"a=\",a)\n",
    "print(\"b=\",b)\n",
    "print(\"float_div=\",float_div)"
   ]
  },
  {
   "cell_type": "code",
   "execution_count": 6,
   "id": "8cd330f4",
   "metadata": {},
   "outputs": [
    {
     "name": "stdout",
     "output_type": "stream",
     "text": [
      "76\n",
      "31\n",
      "a= 76\n",
      "b= 31\n",
      "mod= 14\n"
     ]
    }
   ],
   "source": [
    "#modulo\n",
    "a=int(input())\n",
    "b=int(input())\n",
    "mod=a%b\n",
    "print(\"a=\",a)\n",
    "print(\"b=\",b)\n",
    "print(\"mod=\",mod)"
   ]
  },
  {
   "cell_type": "code",
   "execution_count": 7,
   "id": "16e720ee",
   "metadata": {},
   "outputs": [
    {
     "name": "stdout",
     "output_type": "stream",
     "text": [
      "4\n",
      "4\n",
      "a= 4\n",
      "b= 4\n",
      "power= 256\n"
     ]
    }
   ],
   "source": [
    "a=int(input())\n",
    "b=int(input())\n",
    "power=a**b\n",
    "print(\"a=\",a)\n",
    "print(\"b=\",b)\n",
    "print(\"power=\",power)"
   ]
  },
  {
   "cell_type": "code",
   "execution_count": null,
   "id": "15f4a2f3",
   "metadata": {},
   "outputs": [],
   "source": []
  }
 ],
 "metadata": {
  "kernelspec": {
   "display_name": "Python 3 (ipykernel)",
   "language": "python",
   "name": "python3"
  },
  "language_info": {
   "codemirror_mode": {
    "name": "ipython",
    "version": 3
   },
   "file_extension": ".py",
   "mimetype": "text/x-python",
   "name": "python",
   "nbconvert_exporter": "python",
   "pygments_lexer": "ipython3",
   "version": "3.11.5"
  }
 },
 "nbformat": 4,
 "nbformat_minor": 5
}
