{
 "cells": [
  {
   "cell_type": "code",
   "execution_count": 1,
   "id": "6eb9d3ea",
   "metadata": {},
   "outputs": [
    {
     "name": "stdout",
     "output_type": "stream",
     "text": [
      "Welcome to Assignment-1\n"
     ]
    }
   ],
   "source": [
    "print(\"Welcome to Assignment-1\")"
   ]
  },
  {
   "cell_type": "code",
   "execution_count": 7,
   "id": "1f0d7428",
   "metadata": {
    "scrolled": true
   },
   "outputs": [
    {
     "name": "stdout",
     "output_type": "stream",
     "text": [
      "9\n",
      "8\n",
      "Num1= 9\n",
      "Num2= 8\n",
      "Add= 17\n"
     ]
    }
   ],
   "source": [
    "Num1=int(input())\n",
    "Num2=int(input())\n",
    "Add=Num1+Num2\n",
    "print(\"Num1=\",Num1)\n",
    "print(\"Num2=\",Num2)\n",
    "print(\"Add=\",Add)"
   ]
  },
  {
   "cell_type": "code",
   "execution_count": 5,
   "id": "2a7ded43",
   "metadata": {},
   "outputs": [
    {
     "name": "stdout",
     "output_type": "stream",
     "text": [
      "enter the BMI INDEX:35\n",
      "very overweight\n"
     ]
    }
   ],
   "source": [
    "age=int(input(\"enter the BMI INDEX:\"))\n",
    "if(age<18):\n",
    "    print(\"under weight\")\n",
    "elif(age<19):\n",
    "    print(\"thin for weight\")\n",
    "elif(age<25):\n",
    "    print(\"healthy weight\")\n",
    "elif(age<29):\n",
    "    print(\"over weight\")\n",
    "else:\n",
    "    print(\"very overweight\")\n",
    "    "
   ]
  },
  {
   "cell_type": "code",
   "execution_count": null,
   "id": "a18e572f",
   "metadata": {},
   "outputs": [],
   "source": []
  }
 ],
 "metadata": {
  "kernelspec": {
   "display_name": "Python 3 (ipykernel)",
   "language": "python",
   "name": "python3"
  },
  "language_info": {
   "codemirror_mode": {
    "name": "ipython",
    "version": 3
   },
   "file_extension": ".py",
   "mimetype": "text/x-python",
   "name": "python",
   "nbconvert_exporter": "python",
   "pygments_lexer": "ipython3",
   "version": "3.11.5"
  }
 },
 "nbformat": 4,
 "nbformat_minor": 5
}
