{
 "cells": [
  {
   "cell_type": "code",
   "execution_count": 2,
   "id": "ec7e53e6",
   "metadata": {},
   "outputs": [
    {
     "name": "stdout",
     "output_type": "stream",
     "text": [
      "0\n",
      "1\n",
      "2\n",
      "3\n",
      "4\n",
      "5\n",
      "6\n",
      "7\n",
      "8\n",
      "9\n",
      "10\n",
      "11\n",
      "12\n",
      "13\n",
      "14\n",
      "15\n",
      "16\n",
      "17\n",
      "18\n",
      "19\n"
     ]
    }
   ],
   "source": [
    "#print 0 to 20 using range\n",
    "for i in range(0,20):\n",
    "   print(i)"
   ]
  },
  {
   "cell_type": "code",
   "execution_count": 4,
   "id": "98f3c314",
   "metadata": {},
   "outputs": [
    {
     "name": "stdout",
     "output_type": "stream",
     "text": [
      "10\n",
      "11\n",
      "12\n",
      "13\n",
      "14\n",
      "15\n",
      "16\n",
      "17\n",
      "18\n",
      "19\n"
     ]
    }
   ],
   "source": [
    "#print range of 10 to 20\n",
    "for i in range(10,20):\n",
    "   print(i)"
   ]
  },
  {
   "cell_type": "code",
   "execution_count": 5,
   "id": "c1e9b7ee",
   "metadata": {},
   "outputs": [
    {
     "name": "stdout",
     "output_type": "stream",
     "text": [
      "Number of items in list: 7\n"
     ]
    }
   ],
   "source": [
    "#print the number of itmes in list using len \n",
    "list=[10,20,14,55,43,87,76]\n",
    "print(\"Number of items in list:\",len(list))"
   ]
  },
  {
   "cell_type": "code",
   "execution_count": 12,
   "id": "03dd39ca",
   "metadata": {},
   "outputs": [
    {
     "name": "stdout",
     "output_type": "stream",
     "text": [
      "a\n",
      "r\n",
      "t\n",
      "i\n",
      "f\n",
      "i\n",
      "c\n",
      "i\n",
      "a\n",
      "l\n",
      " \n",
      "i\n",
      "n\n",
      "t\n",
      "e\n",
      "l\n",
      "i\n",
      "g\n",
      "e\n",
      "n\n",
      "c\n",
      "e\n"
     ]
    }
   ],
   "source": [
    "#ai\n",
    "string = \"artificial inteligence\"\n",
    "for i in string:\n",
    "     print(i)"
   ]
  },
  {
   "cell_type": "code",
   "execution_count": 13,
   "id": "2c8c7d6a",
   "metadata": {},
   "outputs": [
    {
     "name": "stdout",
     "output_type": "stream",
     "text": [
      "-Your Name-\n",
      "-Your AGE-\n",
      "-Your profession-\n"
     ]
    }
   ],
   "source": [
    "print(\"-Your Name-\")\n",
    "print(\"-Your AGE-\")\n",
    "print(\"-Your profession-\")"
   ]
  },
  {
   "cell_type": "code",
   "execution_count": 14,
   "id": "3535c053",
   "metadata": {},
   "outputs": [
    {
     "name": "stdout",
     "output_type": "stream",
     "text": [
      "(1, 'welcome', 2, 'hope')\n"
     ]
    }
   ],
   "source": [
    "#tuple\n",
    "tuple=(1,\"welcome\",2,\"hope\")\n",
    "print(tuple)"
   ]
  },
  {
   "cell_type": "code",
   "execution_count": 17,
   "id": "8a0693b5",
   "metadata": {},
   "outputs": [
    {
     "name": "stdout",
     "output_type": "stream",
     "text": [
      "((0, 1, 2, 3), ('python', 'hope'))\n"
     ]
    }
   ],
   "source": [
    "tuple1 = (0, 1, 2, 3)\n",
    "tuple2=(\"python\",\"hope\")\n",
    "print((tuple1,tuple2))"
   ]
  },
  {
   "cell_type": "code",
   "execution_count": 21,
   "id": "08135cf5",
   "metadata": {},
   "outputs": [
    {
     "name": "stdout",
     "output_type": "stream",
     "text": [
      "19 is odd\n",
      "25 is odd\n",
      "1 is odd\n"
     ]
    }
   ],
   "source": [
    "#print odd number in the list\n",
    "list=[20,10,16,19,25,1,276,188]\n",
    "for i in list:\n",
    "    if(i%2!=0):\n",
    "     print(i,\"is odd\")"
   ]
  },
  {
   "cell_type": "code",
   "execution_count": 22,
   "id": "59618bbc",
   "metadata": {},
   "outputs": [
    {
     "name": "stdout",
     "output_type": "stream",
     "text": [
      "20 is even\n",
      "10 is even\n",
      "16 is even\n",
      "276 is even\n",
      "188 is even\n"
     ]
    }
   ],
   "source": [
    "#print even number in the list\n",
    "list=[20,10,16,19,25,1,276,188]\n",
    "for i in list:\n",
    "    if(i%2==0):\n",
    "     print(i,\"is even\")"
   ]
  },
  {
   "cell_type": "code",
   "execution_count": null,
   "id": "a7d9b239",
   "metadata": {},
   "outputs": [],
   "source": []
  }
 ],
 "metadata": {
  "kernelspec": {
   "display_name": "Python 3 (ipykernel)",
   "language": "python",
   "name": "python3"
  },
  "language_info": {
   "codemirror_mode": {
    "name": "ipython",
    "version": 3
   },
   "file_extension": ".py",
   "mimetype": "text/x-python",
   "name": "python",
   "nbconvert_exporter": "python",
   "pygments_lexer": "ipython3",
   "version": "3.11.5"
  }
 },
 "nbformat": 4,
 "nbformat_minor": 5
}
