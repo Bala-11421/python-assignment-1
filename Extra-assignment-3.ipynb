{
 "cells": [
  {
   "cell_type": "code",
   "execution_count": 4,
   "id": "c8f547a7",
   "metadata": {},
   "outputs": [
    {
     "name": "stdout",
     "output_type": "stream",
     "text": [
      "correct\n"
     ]
    }
   ],
   "source": [
    "#print \"correct\" if i==10\n",
    "i=10\n",
    "if(i==10):\n",
    "    print(\"correct\")"
   ]
  },
  {
   "cell_type": "code",
   "execution_count": null,
   "id": "0ee1ea05",
   "metadata": {},
   "outputs": [],
   "source": [
    "#check the password using if and else\n",
    "password=\"HOPE@123\"\n",
    "passw=input(\"enter your password: \")\n",
    "if(passw==password):\n",
    "    print(\"your password is correct\")"
   ]
  },
  {
   "cell_type": "code",
   "execution_count": 28,
   "id": "002d5713",
   "metadata": {},
   "outputs": [
    {
     "name": "stdout",
     "output_type": "stream",
     "text": [
      "enter the age:20\n",
      "citizen\n"
     ]
    }
   ],
   "source": [
    "age=int(input(\"enter the age:\"))\n",
    "if(age==18):\n",
    "    print(\"adult\")\n",
    "elif(age<35):\n",
    "    print(\"citizen\")\n",
    "elif(age>55):\n",
    "    print(\"senior citizen\")\n",
    "else:\n",
    "    print(\"children\")"
   ]
  },
  {
   "cell_type": "code",
   "execution_count": 31,
   "id": "9a5a658d",
   "metadata": {},
   "outputs": [
    {
     "name": "stdout",
     "output_type": "stream",
     "text": [
      "enter a number:1\n",
      "no is positive\n"
     ]
    }
   ],
   "source": [
    "num=int(input(\"enter a number:\"))\n",
    "if(num<0):\n",
    "    print(\"no is negative\")\n",
    "else:\n",
    "    print(\"no is positive\")\n"
   ]
  },
  {
   "cell_type": "markdown",
   "id": "03d567a6",
   "metadata": {},
   "source": []
  },
  {
   "cell_type": "code",
   "execution_count": 34,
   "id": "40df2e32",
   "metadata": {},
   "outputs": [
    {
     "name": "stdout",
     "output_type": "stream",
     "text": [
      "enter a number:22\n",
      "the number is not divisible\n"
     ]
    }
   ],
   "source": [
    "num=int(input(\"enter a number:\"))\n",
    "if(num%5==0):\n",
    "    print(\"the number is dividible\")\n",
    "else:\n",
    "    print(\"the number is not divisible\")"
   ]
  },
  {
   "cell_type": "code",
   "execution_count": null,
   "id": "60ebf5ba",
   "metadata": {},
   "outputs": [],
   "source": []
  },
  {
   "cell_type": "code",
   "execution_count": null,
   "id": "a899aed5",
   "metadata": {},
   "outputs": [],
   "source": []
  }
 ],
 "metadata": {
  "kernelspec": {
   "display_name": "Python 3 (ipykernel)",
   "language": "python",
   "name": "python3"
  },
  "language_info": {
   "codemirror_mode": {
    "name": "ipython",
    "version": 3
   },
   "file_extension": ".py",
   "mimetype": "text/x-python",
   "name": "python",
   "nbconvert_exporter": "python",
   "pygments_lexer": "ipython3",
   "version": "3.11.5"
  }
 },
 "nbformat": 4,
 "nbformat_minor": 5
}
